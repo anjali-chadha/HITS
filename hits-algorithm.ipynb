{
 "cells": [
  {
   "cell_type": "markdown",
   "metadata": {},
   "source": [
    "## A re-Tweet Graph\n",
    "\n",
    "Adapting the classic HITS approach to allow us to find not the most authoritative web pages, but rather to find significant Twitter users. So, instead of viewing the world as web pages with hyperlinks (where pages = nodes, hyperlinks = edges), we're going to construct a graph of Twitter users and their retweets of other Twitter users (so user = node, retweet of another user = edge). Over this Twitter-user graph, we can apply the HITS approach to order the users by their hub-ness and their authority-ness.\n",
    "\n",
    "Here is a toy example. Suppose you are given the following four retweets:\n",
    "\n",
    "* **userID**: diane, **text**: \"RT \", **sourceID**: bob\n",
    "* **userID**: charlie, **text**: \"RT Welcome\", **sourceID**: alice\n",
    "* **userID**: bob, **text**: \"RT Hi \", **sourceID**: diane\n",
    "* **userID**: alice, **text**: \"RT Howdy!\", **sourceID**: parisa\n",
    "\n",
    "There are four short tweets retweeted by four users. The retweet between users form a directed graph with five nodes and four edges. E.g., the \"diane\" node has a directed edge to the \"bob\" node.\n",
    "\n",
    "Building a graph by parsing the tweets in the file we provide called *HITS.json*.\n",
    "\n",
    "**Notes:**\n",
    "* The edges are weighted and directed. If Bob retweets Alice's tweets 10 times, there is an edge from Bob to Alice with weight 10, but there is not an edge from Alice to Bob.\n",
    "* If a user retweets herself, ignore it.\n",
    "* Correctly parsing screen_name in a tweet is error-prone. Use the id of the user (this is the user who is re-tweeting) and the id of the user in the retweeted_status field (this is the user who is being re-tweeted; that is, this user created the original tweet)."
   ]
  },
  {
   "cell_type": "code",
   "execution_count": 1,
   "metadata": {
    "collapsed": true
   },
   "outputs": [],
   "source": [
    "from collections import defaultdict\n",
    "import networkx as nx\n",
    "import jsonlines\n",
    "from collections import Counter\n",
    "import numpy as np\n",
    "from numpy import linalg as LA\n",
    "import operator"
   ]
  },
  {
   "cell_type": "markdown",
   "metadata": {},
   "source": [
    "This method will read the input file containing bunch of tweet jsons. Using these tweets, it will create a tweet graph. "
   ]
  },
  {
   "cell_type": "code",
   "execution_count": 2,
   "metadata": {
    "collapsed": true
   },
   "outputs": [],
   "source": [
    "def create_tweet_graph_from_file(filename):\n",
    "    edges_list = [] ## This list contains all the directed edges in the graph\n",
    "\n",
    "    ## Reading the input json file\n",
    "    with jsonlines.open(filename, 'r') as f:\n",
    "        for jsn in f:\n",
    "            rt_user_id = jsn[\"user\"][\"id\"]\n",
    "            source_user_id = jsn[\"retweeted_status\"][\"user\"][\"id\"]\n",
    "            if rt_user_id != source_user_id:\n",
    "                edges_list.append((rt_user_id, source_user_id))\n",
    "    \n",
    "    ## Creating a weighted edge list from the edges_list\n",
    "    weighted_edge_list = Counter(edges_list)\n",
    "    tweet_graph = nx.DiGraph() ## Creating an empty directed graph\n",
    "    \n",
    "    # Adding edges to the directed graph from the weighted edges list\n",
    "    for edge in weighted_edge_list.items():\n",
    "        source = edge[0][0]\n",
    "        destination = edge[0][1]\n",
    "        weight = edge[1]\n",
    "        tweet_graph.add_edge(source, destination, weight=weight)\n",
    "    return tweet_graph"
   ]
  },
  {
   "cell_type": "code",
   "execution_count": 3,
   "metadata": {},
   "outputs": [
    {
     "data": {
      "text/plain": [
       "6177"
      ]
     },
     "execution_count": 3,
     "metadata": {},
     "output_type": "execute_result"
    }
   ],
   "source": [
    "tweet_graph = create_tweet_graph_from_file('HITS.json')\n",
    "tweet_graph.size()"
   ]
  },
  {
   "cell_type": "markdown",
   "metadata": {},
   "source": [
    "## HITS Implementation\n",
    "\n",
    "This program will return the top 10 users with highest hub and authority scores. The **output** is like:\n",
    "\n",
    "Hub Scores\n",
    "\n",
    "* user1 - score1\n",
    "* user2 - score2\n",
    "* ...\n",
    "* user10 - score10\n",
    "\n",
    "Authority Scores\n",
    "\n",
    "* user1 - score1\n",
    "* user2 - score2\n",
    "* ...\n",
    "* user10 - score10"
   ]
  },
  {
   "cell_type": "markdown",
   "metadata": {},
   "source": [
    "#### Approach : Using the power iteration method"
   ]
  },
  {
   "cell_type": "code",
   "execution_count": 6,
   "metadata": {
    "collapsed": true
   },
   "outputs": [],
   "source": [
    "# Given input graph, this method is the implementation of hits algorithms.\n",
    "# It returns the hubs and authorities score\n",
    "\n",
    "def hits(graph, iter_count = 20):\n",
    "    nodes = graph.nodes()\n",
    "    nodes_count = len(nodes)\n",
    "    matrix = nx.to_numpy_matrix(graph, nodelist=nodes)\n",
    "    \n",
    "    hubs_score = np.ones(nodes_count)\n",
    "    auth_score = np.ones(nodes_count)\n",
    "    H = matrix * matrix.T\n",
    "    A = matrix.T * matrix\n",
    "   \n",
    "    for i in range(iter_count):\n",
    "       \n",
    "        hubs_score = hubs_score * H \n",
    "        auth_score = auth_score * A \n",
    "        hubs_score = hubs_score / LA.norm(hubs_score)\n",
    "        auth_score = auth_score / LA.norm(auth_score)\n",
    "        \n",
    "    hubs_score = np.array(hubs_score).reshape(-1,)\n",
    "    auth_score = np.array(auth_score).reshape(-1,)\n",
    "    \n",
    "    hubs = dict(zip(nodes, hubs_score))\n",
    "    authorities = dict(zip(nodes, auth_score))\n",
    "    return hubs, authorities"
   ]
  },
  {
   "cell_type": "code",
   "execution_count": 7,
   "metadata": {
    "collapsed": true
   },
   "outputs": [],
   "source": [
    "# Given a graph, this method returns top k hubs\n",
    "def get_top_k_hubs(graph, k = 10):\n",
    "    hubs = hits(graph)[0]\n",
    "    return sorted(hubs.items(), key = operator.itemgetter(1), reverse = True)[:k]\n",
    "\n",
    "#Given a graph, this method returns top k authorities\n",
    "def get_top_k_authorities(graph, k = 10):\n",
    "    auth = hits(graph)[1]\n",
    "    return sorted(auth.items(), key = operator.itemgetter(1), reverse = True)[:k]"
   ]
  },
  {
   "cell_type": "code",
   "execution_count": 8,
   "metadata": {},
   "outputs": [
    {
     "name": "stdout",
     "output_type": "stream",
     "text": [
      "Top 10 hubs \n"
     ]
    },
    {
     "data": {
      "text/plain": [
       "[(3068706044, 0.6228962788346416),\n",
       " (3093940760, 0.29608337726157852),\n",
       " (2194518394, 0.25979684894330446),\n",
       " (2862783698, 0.20250708715416696),\n",
       " (3092183276, 0.17046401522271865),\n",
       " (3029724797, 0.16693938874412703),\n",
       " (2990704188, 0.14781712484957887),\n",
       " (3001500121, 0.14506944928145832),\n",
       " (3086921438, 0.12911896850758384),\n",
       " (3042686360, 0.12523755718547352)]"
      ]
     },
     "execution_count": 8,
     "metadata": {},
     "output_type": "execute_result"
    }
   ],
   "source": [
    "top_10_tweet_hubs = get_top_k_hubs(tweet_graph)\n",
    "print(\"Top 10 hubs \")\n",
    "top_10_tweet_hubs"
   ]
  },
  {
   "cell_type": "code",
   "execution_count": 9,
   "metadata": {},
   "outputs": [
    {
     "name": "stdout",
     "output_type": "stream",
     "text": [
      "Top 10 authorities\n"
     ]
    },
    {
     "data": {
      "text/plain": [
       "[(3042570996, 0.54450841838976316),\n",
       " (3065514742, 0.49299557729892024),\n",
       " (1638625987, 0.44375892390040017),\n",
       " (3077733683, 0.28651236641693456),\n",
       " (3039321886, 0.22426278276458395),\n",
       " (3077695572, 0.12184230146264768),\n",
       " (3019659587, 0.11321175872457195),\n",
       " (1358345766, 0.098942091627440804),\n",
       " (3061155846, 0.09396927090171632),\n",
       " (3092580049, 0.093661391183235035)]"
      ]
     },
     "execution_count": 9,
     "metadata": {},
     "output_type": "execute_result"
    }
   ],
   "source": [
    "top_10_tweet_auth = get_top_k_authorities(tweet_graph)\n",
    "print(\"Top 10 authorities\")\n",
    "top_10_tweet_auth"
   ]
  }
 ],
 "metadata": {
  "anaconda-cloud": {},
  "kernelspec": {
   "display_name": "Python 3",
   "language": "python",
   "name": "python3"
  },
  "language_info": {
   "codemirror_mode": {
    "name": "ipython",
    "version": 3
   },
   "file_extension": ".py",
   "mimetype": "text/x-python",
   "name": "python",
   "nbconvert_exporter": "python",
   "pygments_lexer": "ipython3",
   "version": "3.6.3"
  }
 },
 "nbformat": 4,
 "nbformat_minor": 1
}
